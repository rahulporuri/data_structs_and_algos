{
 "metadata": {
  "name": "",
  "signature": "sha256:39b0360cb1e5424af5637ee5bfbc0d063dbe38163d4976bb575358bb765bea49"
 },
 "nbformat": 3,
 "nbformat_minor": 0,
 "worksheets": [
  {
   "cells": [
    {
     "cell_type": "code",
     "collapsed": false,
     "input": [
      "import numpy as np\n",
      "import random"
     ],
     "language": "python",
     "metadata": {},
     "outputs": [],
     "prompt_number": 1
    },
    {
     "cell_type": "code",
     "collapsed": false,
     "input": [
      "print np.arange(0,10,1), random.choice(np.arange(0,10,1))"
     ],
     "language": "python",
     "metadata": {},
     "outputs": [
      {
       "output_type": "stream",
       "stream": "stdout",
       "text": [
        "[0 1 2 3 4 5 6 7 8 9] 3\n"
       ]
      }
     ],
     "prompt_number": 2
    },
    {
     "cell_type": "code",
     "collapsed": false,
     "input": [
      "unSortedArray = np.empty(0)\n",
      "chooseFrom = np.arange(0,10,1)\n",
      "for i in range(10):\n",
      "    unSortedArray = np.append(unSortedArray, random.choice(chooseFrom))"
     ],
     "language": "python",
     "metadata": {},
     "outputs": [],
     "prompt_number": 3
    },
    {
     "cell_type": "code",
     "collapsed": false,
     "input": [
      "unSortedArray"
     ],
     "language": "python",
     "metadata": {},
     "outputs": [
      {
       "metadata": {},
       "output_type": "pyout",
       "prompt_number": 4,
       "text": [
        "array([ 8.,  9.,  9.,  2.,  2.,  0.,  7.,  8.,  9.,  8.])"
       ]
      }
     ],
     "prompt_number": 4
    },
    {
     "cell_type": "code",
     "collapsed": false,
     "input": [
      "def Merge(array1, array2):\n",
      "    \n",
      "    i = 0\n",
      "    j = 0\n",
      "    k = 0\n",
      "    \n",
      "    lenReturnArray = len(array1) +len(array2)\n",
      "    returnArray = np.zeros(lenReturnArray)\n",
      "\n",
      "    while i < len(array1) and j < len(array2):\n",
      "        if array1[i] > array2[j]:\n",
      "            returnArray[k] = array2[j]\n",
      "            j += 1\n",
      "            k += 1\n",
      "        else:\n",
      "            returnArray[k] = array1[i]\n",
      "            i += 1\n",
      "            k += 1\n",
      "            \n",
      "    if i == len(array1):\n",
      "        while j < len(array2):\n",
      "            returnArray[k] = array2[j]\n",
      "            j += 1\n",
      "            k += 1\n",
      "\n",
      "    if j == len(array2):\n",
      "        while i < len(array1):\n",
      "            returnArray[k] = array1[i]\n",
      "            i += 1\n",
      "            k += 1\n",
      "   \n",
      "    return returnArray"
     ],
     "language": "python",
     "metadata": {},
     "outputs": [],
     "prompt_number": 32
    },
    {
     "cell_type": "code",
     "collapsed": false,
     "input": [
      "Merge(np.array([1,2,3,4]), np.array([5,6,7,8]))"
     ],
     "language": "python",
     "metadata": {},
     "outputs": [
      {
       "metadata": {},
       "output_type": "pyout",
       "prompt_number": 33,
       "text": [
        "array([ 1.,  2.,  3.,  4.,  5.,  6.,  7.,  8.])"
       ]
      }
     ],
     "prompt_number": 33
    },
    {
     "cell_type": "code",
     "collapsed": false,
     "input": [],
     "language": "python",
     "metadata": {},
     "outputs": []
    }
   ],
   "metadata": {}
  }
 ]
}