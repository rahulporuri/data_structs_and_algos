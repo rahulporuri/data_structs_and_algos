{
 "metadata": {
  "name": "",
  "signature": "sha256:a2476aeac71cbf69218ae917b97c8efb023a57ee8cee412dbeaaf3c9d8d69524"
 },
 "nbformat": 3,
 "nbformat_minor": 0,
 "worksheets": [
  {
   "cells": [
    {
     "cell_type": "code",
     "collapsed": false,
     "input": [
      "import numpy\n",
      "import random\n",
      "import matplotlib.pyplot as plt\n",
      "%matplotlib inline"
     ],
     "language": "python",
     "metadata": {},
     "outputs": [],
     "prompt_number": 4
    },
    {
     "cell_type": "code",
     "collapsed": false,
     "input": [
      "n = 10\n",
      "input_array = numpy.empty(0)\n",
      "for i in range(n):\n",
      "    input_array = numpy.append(input_array, random.random())"
     ],
     "language": "python",
     "metadata": {},
     "outputs": [],
     "prompt_number": 5
    },
    {
     "cell_type": "code",
     "collapsed": false,
     "input": [
      "input_array"
     ],
     "language": "python",
     "metadata": {},
     "outputs": [
      {
       "metadata": {},
       "output_type": "pyout",
       "prompt_number": 6,
       "text": [
        "array([ 0.61819958,  0.26849393,  0.02560507,  0.51761263,  0.53936375,\n",
        "        0.65817702,  0.98350347,  0.75464738,  0.6633894 ,  0.05058346])"
       ]
      }
     ],
     "prompt_number": 6
    },
    {
     "cell_type": "code",
     "collapsed": false,
     "input": [
      "for j in range(1,len(input_array)):\n",
      "    key = input_array[j]\n",
      "    i = j-1\n",
      "    while i > -1 and input_array[i] > key:\n",
      "        input_array[i+1] = input_array[i]\n",
      "        i = i-1\n",
      "    input_array[i+1] = key"
     ],
     "language": "python",
     "metadata": {},
     "outputs": [],
     "prompt_number": 17
    },
    {
     "cell_type": "code",
     "collapsed": false,
     "input": [
      "input_array"
     ],
     "language": "python",
     "metadata": {},
     "outputs": [
      {
       "metadata": {},
       "output_type": "pyout",
       "prompt_number": 18,
       "text": [
        "array([ 0.02560507,  0.05058346,  0.26849393,  0.51761263,  0.53936375,\n",
        "        0.61819958,  0.65817702,  0.6633894 ,  0.75464738,  0.98350347])"
       ]
      }
     ],
     "prompt_number": 18
    },
    {
     "cell_type": "code",
     "collapsed": false,
     "input": [
      "def insertion_sort(array):\n",
      "    for j in range(1,len(array)):\n",
      "        key = array[j]\n",
      "        i = j-1\n",
      "        while i > -1 and array[i] > key:\n",
      "            array[i+1] = array[i]\n",
      "            i = i-1\n",
      "        array[i+1] = key\n",
      "\n",
      "    return array"
     ],
     "language": "python",
     "metadata": {},
     "outputs": [],
     "prompt_number": 19
    },
    {
     "cell_type": "code",
     "collapsed": false,
     "input": [
      "def generate_array(n):\n",
      "    array = numpy.empty(0)\n",
      "    for i in range(n):\n",
      "        array = numpy.append(array, random.random())\n",
      "\n",
      "    return array"
     ],
     "language": "python",
     "metadata": {},
     "outputs": [],
     "prompt_number": 20
    },
    {
     "cell_type": "code",
     "collapsed": false,
     "input": [
      "for n in range(5):\n",
      "    test_array = generate_array(n)\n",
      "    test_array = insertion_sort(test_array)\n",
      "    print test_array"
     ],
     "language": "python",
     "metadata": {},
     "outputs": [
      {
       "output_type": "stream",
       "stream": "stdout",
       "text": [
        "[]\n",
        "[ 0.43089345]\n",
        "[ 0.27091518  0.29068983]\n",
        "[ 0.02264303  0.52251683  0.54597327]\n",
        "[ 0.22880785  0.25261677  0.62533589  0.7339387 ]\n"
       ]
      }
     ],
     "prompt_number": 22
    },
    {
     "cell_type": "code",
     "collapsed": false,
     "input": [
      "n = 1000\n",
      "test_array = generate_array(n)"
     ],
     "language": "python",
     "metadata": {},
     "outputs": [],
     "prompt_number": 23
    },
    {
     "cell_type": "code",
     "collapsed": false,
     "input": [
      "%timeit insertion_sort(test_array)"
     ],
     "language": "python",
     "metadata": {},
     "outputs": [
      {
       "output_type": "stream",
       "stream": "stdout",
       "text": [
        "1 loops, best of 3: 2.61 ms per loop\n"
       ]
      }
     ],
     "prompt_number": 25
    },
    {
     "cell_type": "code",
     "collapsed": false,
     "input": [
      "for n in [10,100,1000,10000,100000,1000000]:\n",
      "    test_array = generate_array(n)\n",
      "    %timeit insertion_sort(test_array)"
     ],
     "language": "python",
     "metadata": {},
     "outputs": [
      {
       "output_type": "stream",
       "stream": "stdout",
       "text": [
        "10000 loops, best of 3: 28.3 \u00b5s per loop\n",
        "1000 loops, best of 3: 261 \u00b5s per loop"
       ]
      },
      {
       "output_type": "stream",
       "stream": "stdout",
       "text": [
        "\n",
        "1 loops, best of 3: 4.25 ms per loop"
       ]
      },
      {
       "output_type": "stream",
       "stream": "stdout",
       "text": [
        "\n",
        "1 loops, best of 3: 26.4 ms per loop"
       ]
      }
     ]
    },
    {
     "cell_type": "code",
     "collapsed": false,
     "input": [],
     "language": "python",
     "metadata": {},
     "outputs": []
    }
   ],
   "metadata": {}
  }
 ]
}